{
 "cells": [
  {
   "cell_type": "markdown",
   "id": "85b862c5",
   "metadata": {},
   "source": [
    "### Import Dependencies & initialise env variables"
   ]
  },
  {
   "cell_type": "code",
   "execution_count": 10,
   "id": "0cdb6d20",
   "metadata": {},
   "outputs": [
    {
     "data": {
      "text/plain": [
       "True"
      ]
     },
     "execution_count": 10,
     "metadata": {},
     "output_type": "execute_result"
    }
   ],
   "source": [
    "import os\n",
    "from dotenv import load_dotenv\n",
    "from langchain_huggingface import HuggingFaceEmbeddings\n",
    "from langchain_community.document_loaders import PyPDFDirectoryLoader\n",
    "from langchain_text_splitters import RecursiveCharacterTextSplitter\n",
    "from langchain_chroma import Chroma\n",
    "\n",
    "load_dotenv()"
   ]
  },
  {
   "cell_type": "code",
   "execution_count": 11,
   "id": "8ab00f35",
   "metadata": {},
   "outputs": [],
   "source": [
    "pdf_doc_directory_path = os.getenv(\"pdf_doc_directory_path\")\n",
    "db_directory = os.getenv(\"db_directory\")\n",
    "collection_name = os.getenv(\"collection_name\")\n",
    "embedding_model_name = os.getenv(\"embedding_model_name\")"
   ]
  },
  {
   "cell_type": "markdown",
   "id": "54c5a717",
   "metadata": {},
   "source": [
    "### Initialising the client objects"
   ]
  },
  {
   "cell_type": "code",
   "execution_count": 12,
   "id": "99de6f52",
   "metadata": {},
   "outputs": [],
   "source": [
    "# Loading the embedding model\n",
    "embeddings = HuggingFaceEmbeddings(model_name=embedding_model_name)\n",
    "# Loading the PDF directory loader\n",
    "pdf_directory_loader = PyPDFDirectoryLoader(path=pdf_doc_directory_path)\n",
    "# Loading text-splitter for splitting the docs into small chunks\n",
    "text_splitter = RecursiveCharacterTextSplitter(chunk_size=1000, chunk_overlap=300)\n",
    "# Initialising chroma client to load the documents into the vector-store\n",
    "chroma_client = Chroma(persist_directory=db_directory)"
   ]
  },
  {
   "cell_type": "code",
   "execution_count": 4,
   "id": "8c5336af",
   "metadata": {},
   "outputs": [
    {
     "name": "stdout",
     "output_type": "stream",
     "text": [
      "Number of docs loaded from the directory 350\n",
      "Number of documents after splitting 742\n"
     ]
    }
   ],
   "source": [
    "# Loading all the PDFs in the directory\n",
    "docs = pdf_directory_loader.load()\n",
    "print(\"Number of docs loaded from the directory\", len(docs))\n",
    "\n",
    "# Splitting the documents into small chunk\n",
    "doc_splits = text_splitter.split_documents(docs)\n",
    "print(\"Number of documents after splitting\", len(doc_splits))"
   ]
  },
  {
   "cell_type": "code",
   "execution_count": null,
   "id": "5037d025",
   "metadata": {},
   "outputs": [],
   "source": [
    "# Adding the document chunks to the Chroma DB vectore-store\n",
    "vectorstore = chroma_client.from_documents(\n",
    "    documents=doc_splits,\n",
    "    embedding=embeddings,\n",
    "    collection_name=collection_name,\n",
    "    persist_directory=db_directory\n",
    ")"
   ]
  },
  {
   "cell_type": "markdown",
   "id": "814e0d7c",
   "metadata": {},
   "source": [
    "### Test the results of vector-search"
   ]
  },
  {
   "cell_type": "code",
   "execution_count": 9,
   "id": "d20bce89",
   "metadata": {},
   "outputs": [
    {
     "data": {
      "text/plain": [
       "[(Document(id='64640133-7533-43eb-8b7e-5ed339109d95', metadata={'page_label': '1', 'creationdate': '2015-06-12T10:48:16+00:00', 'creator': 'Unknown', 'total_pages': 245, 'moddate': '2015-09-08T17:52:47+05:30', 'page': 0, 'title': 'Untitled', 'source': '..\\\\data\\\\documents\\\\Ford-figo-owners-manual.pdf', 'author': 'Unknown', 'producer': 'XEP 4.16 build 20090723', 'trapped': '/False'}, page_content=\"FORD FIGO Owner's Manual\"),\n",
       "  0.5034269094467163),\n",
       " (Document(id='b1c0a39b-7344-447c-9063-9c1b471246f6', metadata={'title': 'Untitled', 'page': 81, 'producer': 'XEP 4.16 build 20090723', 'page_label': '79', 'creator': 'Unknown', 'creationdate': '2015-06-12T10:48:16+00:00', 'total_pages': 245, 'moddate': '2015-09-08T17:52:47+05:30', 'source': '..\\\\data\\\\documents\\\\Ford-figo-owners-manual.pdf', 'author': 'Unknown', 'trapped': '/False'}, page_content='1. Fully depress the clutch pedal.\\n2. Start the engine.\\nVehicles with Automatic Transmission\\nNote: Do not touch the accelerator pedal.\\n1. Depress the brake pedal.\\n2. Move the transmission selector lever\\nto position \\nP or N.\\n3. Start the engine.\\nAll Vehicles\\nIf the engine does not start within 10\\nseconds, wait for a short period and try\\nagain.\\nIf the engine does not start after three\\nattempts, wait 10 seconds and follow the\\nflooded engine procedure.\\nIf you have difficulty starting the engine\\nwhen the temperature is below \\n-25°C,\\npress the accelerator pedal to the mid-way\\npoint of its travel and try again.\\nFuel Flooded Engine\\nVehicles with Manual Transmission\\n1. Fully depress the clutch pedal.\\n2. Fully depress the accelerator pedal and\\nhold it there.\\n3. Start the engine.\\nVehicles with Automatic Transmission\\n1. Depress the brake pedal.\\n2. Move the transmission selector lever\\nto position \\nP or N.\\n3. Fully depress the accelerator pedal and\\nhold it there.\\n4. Start the engine.\\nAll Vehicles'),\n",
       "  0.8244961500167847),\n",
       " (Document(id='c26c36af-216f-4759-a66a-afe70e36044a', metadata={'producer': 'Acrobat Distiller 22.0 (Windows)', 'title': 'untitled', 'page': 55, 'moddate': '2022-07-26T13:09:10+05:30', 'source': '..\\\\data\\\\documents\\\\hunter-350-dual-channel.pdf', 'trapped': '/False', 'total_pages': 105, 'creationdate': '2022-07-25T17:10:43+05:30', 'page_label': '56', 'creator': 'Adobe InDesign 17.3 (Windows)'}, page_content='mechanism.\\n\\x84 Depress and hold the  \\nclutch Lever.\\n\\x84 Press starter button \\nand hold till engine \\nstarts. Do not release \\nthe button before \\nengine starts.\\n\\x84 Do not press the starter button more than \\n5 s after three successive cranking, wait for \\n15 to 20 s the battery to recover.'),\n",
       "  0.8578495383262634),\n",
       " (Document(id='81264b68-2ff9-47a7-b92b-5ef6b926d5c4', metadata={'title': 'Untitled', 'producer': 'XEP 4.16 build 20090723', 'creationdate': '2015-06-12T10:48:16+00:00', 'total_pages': 245, 'creator': 'Unknown', 'trapped': '/False', 'page_label': '79', 'page': 81, 'author': 'Unknown', 'moddate': '2015-09-08T17:52:47+05:30', 'source': '..\\\\data\\\\documents\\\\Ford-figo-owners-manual.pdf'}, page_content='T o unlock the steering wheel:\\n1. Insert the key in the ignition switch.\\n2. Turn the key to position \\nI.\\nNote: You may need to rotate the steering\\nwheel slightly to assist unlocking if there is\\na steering wheel load applied.\\nST ARTING A GASOLINE\\nENGINE\\nNote: You can only operate the starter 10\\nseconds. The number of start attempts is\\nlimited to approximately six. If you exceed\\nthis limit, the system does not allow you to\\ntry again for about 30 minutes.\\nCold or Hot Engine\\nVehicles with Manual Transmission\\nNote: Do not touch the accelerator pedal.\\nNote: Releasing the clutch pedal while the\\nengine is starting stops the engine cranking\\nand returns the ignition to on.\\n1. Fully depress the clutch pedal.\\n2. Start the engine.\\nVehicles with Automatic Transmission\\nNote: Do not touch the accelerator pedal.\\n1. Depress the brake pedal.\\n2. Move the transmission selector lever\\nto position \\nP or N.\\n3. Start the engine.\\nAll Vehicles\\nIf the engine does not start within 10'),\n",
       "  0.8591540455818176)]"
      ]
     },
     "execution_count": 9,
     "metadata": {},
     "output_type": "execute_result"
    }
   ],
   "source": [
    "embeddings = HuggingFaceEmbeddings(model_name=\"sentence-transformers/all-mpnet-base-v2\")\n",
    "vectorstore = Chroma(\n",
    "    persist_directory=db_directory,\n",
    "    embedding_function=embeddings,\n",
    "    collection_name=collection_name\n",
    ")\n",
    "\n",
    "vectorstore.similarity_search_with_score(\"How to start Ford Figo?\")"
   ]
  },
  {
   "cell_type": "code",
   "execution_count": 9,
   "id": "1b613afd",
   "metadata": {},
   "outputs": [
    {
     "data": {
      "text/plain": [
       "[Document(id='2d17bd55-6935-4288-ac9c-329f23c4deb2', metadata={'title': 'untitled', 'page': 53, 'total_pages': 105, 'producer': 'Acrobat Distiller 22.0 (Windows)', 'creationdate': '2022-07-25T17:10:43+05:30', 'creator': 'Adobe InDesign 17.3 (Windows)', 'moddate': '2022-07-26T13:09:10+05:30', 'page_label': '54', 'source': '..\\\\data\\\\documents\\\\hunter-350-dual-channel.pdf', 'trapped': '/False'}, page_content='Royal Enfield Hunter 35052\\nSTARTING\\nCAUTION\\n\\x84 In case the malfunction \\nindicator does not \\nturn “OFF”, get the \\nmotorcycle checked \\nthrough an Royal Enfield \\nAuthorised Service \\nCentre for rectification.\\n\\x84 Disengage clutch by \\npulling in the clutch \\nlever and hold it in \\ndepressed condition.\\n\\x84 Push and hold electric \\nstart switch until engine \\nstarts for a maximum of \\n5 s.\\n\\x84 Check the fuel level indicator in the cluster for \\nadequate fuel in the fuel tank. In case the last bar \\nis blinking continuously, it indicates low fuel level in \\nthe tank. Please re-fuel immediately.'),\n",
       " Document(id='e437f51c-f5e5-4b4c-a295-5dd47e3f6d17', metadata={'trapped': '/False', 'source': '..\\\\data\\\\documents\\\\hunter-350-dual-channel.pdf', 'producer': 'Acrobat Distiller 22.0 (Windows)', 'title': 'untitled', 'page_label': '19', 'total_pages': 105, 'creator': 'Adobe InDesign 17.3 (Windows)', 'moddate': '2022-07-26T13:09:10+05:30', 'creationdate': '2022-07-25T17:10:43+05:30', 'page': 18}, page_content='Royal Enfield Hunter 350 17\\nTECHNICAL SPECIFICATIONS\\nENGINE\\nEngine type .........................   Single cylinder,4 stroke, \\nSOHC\\nBore .....................................  72 mm\\nStroke ..................................  85.8 mm\\nEngine capacity (cc) ............  349.34 cc\\nCompression ratio ...............  9.5:1\\nMax power ..........................   20.2 bhp @ 6100 rpm\\nMax torque ..........................  27 Nm @ 4000 rpm\\nIdle RPM ..............................  1050 ± 100 rpm\\nStarting ................................  E-Start\\nAir filter element .................  Paper element\\nIGNITION SYSTEM\\nIgnition type ........................   ECU controlled  \\n(with ECU map number)\\nSpark plug gap .....................  0.7 to 0.8 mm\\nSpark plug ...........................  YR7MES / M12 Bosch'),\n",
       " Document(id='c3081cdf-30a7-400a-9ffa-f0932dcb6ee7', metadata={'page': 30, 'producer': 'Acrobat Distiller 22.0 (Windows)', 'title': 'untitled', 'creator': 'Adobe InDesign 17.3 (Windows)', 'trapped': '/False', 'total_pages': 105, 'page_label': '31', 'creationdate': '2022-07-25T17:10:43+05:30', 'source': '..\\\\data\\\\documents\\\\hunter-350-dual-channel.pdf', 'moddate': '2022-07-26T13:09:10+05:30'}, page_content='Royal Enfield Hunter 350 29\\nOPERATION OF CONTROLS\\nCAUTION\\nGasoline vapour is highly explosive. Please ensure there \\nare no open flames or sparks nearby while refuelling and \\nfill fuel only in a well ventilated area.\\nPlease ensure gasoline does not spill on painted surfaces. \\nIn case fuel spills over the painted surfaces wipe it off  \\nimmediately as it may leave a permanent stain.\\nDo not smoke while refuelling or when fuel tank cap is \\nopen.\\nFUEL TANK\\n1. Fuel tank mouth\\n2. Splash arrestor\\n3. Maximum fuel level\\nW ARNING\\nDo not overfill the fuel tank. Fill upto maximum fuel level \\n& stop filling when the fuel reaches the bottom of splash \\narrestor. Failure to do so will lead to canister damage or \\ncan cause fuel spill out of fuel tank.\\nPetrol is highly explosive. Please ensure there are no \\nopen flames or sparks nearby while refuelling and fill fuel \\ntank only in a well ventilated area.\\nPlease ensure petrol does not spill on painted surfaces.'),\n",
       " Document(id='c26c36af-216f-4759-a66a-afe70e36044a', metadata={'moddate': '2022-07-26T13:09:10+05:30', 'creationdate': '2022-07-25T17:10:43+05:30', 'trapped': '/False', 'page_label': '56', 'page': 55, 'producer': 'Acrobat Distiller 22.0 (Windows)', 'total_pages': 105, 'source': '..\\\\data\\\\documents\\\\hunter-350-dual-channel.pdf', 'creator': 'Adobe InDesign 17.3 (Windows)', 'title': 'untitled'}, page_content='mechanism.\\n\\x84 Depress and hold the  \\nclutch Lever.\\n\\x84 Press starter button \\nand hold till engine \\nstarts. Do not release \\nthe button before \\nengine starts.\\n\\x84 Do not press the starter button more than \\n5 s after three successive cranking, wait for \\n15 to 20 s the battery to recover.'),\n",
       " Document(id='c701c7c2-1673-416b-a161-78560777ae98', metadata={'page': 103, 'producer': 'Acrobat Distiller 22.0 (Windows)', 'trapped': '/False', 'page_label': '104', 'total_pages': 105, 'creationdate': '2022-07-25T17:10:43+05:30', 'creator': 'Adobe InDesign 17.3 (Windows)', 'moddate': '2022-07-26T13:09:10+05:30', 'title': 'untitled', 'source': '..\\\\data\\\\documents\\\\hunter-350-dual-channel.pdf'}, page_content='Royal Enfield Hunter 350102\\n5R\\\\DO\\x03(QŰHOG\\x03\\nUHFRPPDQGHG\\x03/XEULFDQWV\\n5R\\\\DO\\x03(QŰHOG\\x03\\nUHFRPPDQGHG\\x03DGG\\x03RQV\\x03WR\\nPDLQWDLQ\\x03\\\\RXU\\x03YHKLFOH')]"
      ]
     },
     "execution_count": 9,
     "metadata": {},
     "output_type": "execute_result"
    }
   ],
   "source": [
    "# Creating a retriever object to fetch similary search\n",
    "retriever = vectorstore.as_retriever(\n",
    "    search_type=\"mmr\", search_kwargs={\"k\": 5, \"fetch_k\": 50}\n",
    ")\n",
    "\n",
    "retriever.invoke(\"How to start Hunter 350?\")"
   ]
  },
  {
   "cell_type": "code",
   "execution_count": null,
   "id": "65cdf3e4",
   "metadata": {},
   "outputs": [],
   "source": []
  }
 ],
 "metadata": {
  "kernelspec": {
   "display_name": "Python 3",
   "language": "python",
   "name": "python3"
  },
  "language_info": {
   "codemirror_mode": {
    "name": "ipython",
    "version": 3
   },
   "file_extension": ".py",
   "mimetype": "text/x-python",
   "name": "python",
   "nbconvert_exporter": "python",
   "pygments_lexer": "ipython3",
   "version": "3.12.0"
  }
 },
 "nbformat": 4,
 "nbformat_minor": 5
}
